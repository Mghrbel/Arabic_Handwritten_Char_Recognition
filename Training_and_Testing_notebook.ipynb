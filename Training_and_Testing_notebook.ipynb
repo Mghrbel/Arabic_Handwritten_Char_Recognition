{
 "cells": [
  {
   "cell_type": "code",
   "execution_count": 15,
   "metadata": {
    "id": "ulSatl-x39bm"
   },
   "outputs": [],
   "source": [
    "import numpy as np\n",
    "import pandas as pd\n",
    "import os\n",
    "import shutil\n",
    "import cv2 as cv\n",
    "import matplotlib.pyplot as plt\n",
    "from tensorflow.keras.preprocessing.image import ImageDataGenerator\n",
    "from tensorflow.keras.utils import image_dataset_from_directory\n",
    "from tensorflow.keras.layers import Input, Conv2D, Dense, MaxPooling2D, Flatten, Dropout, BatchNormalization\n",
    "from keras.models import Model\n",
    "from tensorflow.keras.callbacks import ModelCheckpoint, EarlyStopping\n",
    "from tensorflow.keras.models import load_model"
   ]
  },
  {
   "cell_type": "code",
   "execution_count": 2,
   "metadata": {
    "colab": {
     "base_uri": "https://localhost:8080/"
    },
    "id": "PF8OhM-34Ht_",
    "outputId": "7fc3cdd2-ea20-4881-8e7e-812b382d8309"
   },
   "outputs": [
    {
     "data": {
      "text/plain": [
       "array(['أ', 'ب', 'ت', 'ث', 'ج', 'ح', 'خ', 'د', 'ذ', 'ر', 'ز', 'س', 'ش',\n",
       "       'ص', 'ض', 'ط', 'ظ', 'ع', 'غ', 'ف', 'ق', 'ك', 'ل', 'م', 'ن', 'ه',\n",
       "       'و', 'ى'], dtype='<U1')"
      ]
     },
     "execution_count": 2,
     "metadata": {},
     "output_type": "execute_result"
    }
   ],
   "source": [
    "arabic_characters = np.array(sorted(['أ', 'ب', 'ت', 'ث', 'ج', 'ح', 'خ', 'د', 'ذ','ر', 'ز', 'س', 'ش', 'ص', 'ض', 'ط', 'ظ', 'ع','غ', 'ف', 'ق', 'ك', 'ل', 'م', 'ن', 'ه', 'و', 'ى']))\n",
    "arabic_characters"
   ]
  },
  {
   "cell_type": "code",
   "execution_count": 3,
   "metadata": {
    "colab": {
     "base_uri": "https://localhost:8080/"
    },
    "id": "L9AEK-h94RqH",
    "outputId": "4e32c1c3-62d9-40ac-cbbb-84f7ac85bad2"
   },
   "outputs": [],
   "source": [
    "# Data directory : In case we used google drive to train on colab\n",
    "# from google.colab import drive\n",
    "# drive.mount(\"/content/drive\")\n",
    "# DATA_DIR = '/content/drive/My Drive/OCR_Task/'\n",
    "\n",
    "# Data directory : In case we trained local\n",
    "DATA_DIR = 'data/'"
   ]
  },
  {
   "cell_type": "code",
   "execution_count": 4,
   "metadata": {
    "colab": {
     "base_uri": "https://localhost:8080/",
     "height": 206
    },
    "id": "sidzUd2q4Itp",
    "outputId": "c65adaf9-adc0-4ccc-c94c-d1be875dbc20"
   },
   "outputs": [
    {
     "data": {
      "text/html": [
       "<div>\n",
       "<style scoped>\n",
       "    .dataframe tbody tr th:only-of-type {\n",
       "        vertical-align: middle;\n",
       "    }\n",
       "\n",
       "    .dataframe tbody tr th {\n",
       "        vertical-align: top;\n",
       "    }\n",
       "\n",
       "    .dataframe thead th {\n",
       "        text-align: right;\n",
       "    }\n",
       "</style>\n",
       "<table border=\"1\" class=\"dataframe\">\n",
       "  <thead>\n",
       "    <tr style=\"text-align: right;\">\n",
       "      <th></th>\n",
       "      <th>id</th>\n",
       "      <th>label</th>\n",
       "    </tr>\n",
       "  </thead>\n",
       "  <tbody>\n",
       "    <tr>\n",
       "      <th>0</th>\n",
       "      <td>0</td>\n",
       "      <td>24</td>\n",
       "    </tr>\n",
       "    <tr>\n",
       "      <th>1</th>\n",
       "      <td>1</td>\n",
       "      <td>2</td>\n",
       "    </tr>\n",
       "    <tr>\n",
       "      <th>2</th>\n",
       "      <td>2</td>\n",
       "      <td>17</td>\n",
       "    </tr>\n",
       "    <tr>\n",
       "      <th>3</th>\n",
       "      <td>3</td>\n",
       "      <td>14</td>\n",
       "    </tr>\n",
       "    <tr>\n",
       "      <th>4</th>\n",
       "      <td>4</td>\n",
       "      <td>19</td>\n",
       "    </tr>\n",
       "  </tbody>\n",
       "</table>\n",
       "</div>"
      ],
      "text/plain": [
       "   id  label\n",
       "0   0     24\n",
       "1   1      2\n",
       "2   2     17\n",
       "3   3     14\n",
       "4   4     19"
      ]
     },
     "execution_count": 4,
     "metadata": {},
     "output_type": "execute_result"
    }
   ],
   "source": [
    "train_df = pd.read_csv(DATA_DIR + \"train.csv\")\n",
    "test_df  = pd.read_csv(DATA_DIR + \"test.csv\")\n",
    "\n",
    "train_df.head()"
   ]
  },
  {
   "cell_type": "markdown",
   "metadata": {},
   "source": [
    "### Creating dirctories containing labeled train images"
   ]
  },
  {
   "cell_type": "code",
   "execution_count": 5,
   "metadata": {
    "id": "_5PrhMpp44mI"
   },
   "outputs": [],
   "source": [
    "if not os.path.isdir(os.path.join(DATA_DIR, 'train_labeled/')):\n",
    "    os.mkdir(DATA_DIR + 'train_labeled/')\n",
    "    \n",
    "for _, row in train_df.iterrows():\n",
    "    id = row['id']\n",
    "    l = row['label']\n",
    "    \n",
    "    if not os.path.isdir(os.path.join(DATA_DIR, 'train_labeled/{}/'.format(arabic_characters[l-1]))):\n",
    "        os.mkdir(os.path.join(DATA_DIR, 'train_labeled/{}/'.format(arabic_characters[l-1])))\n",
    "        \n",
    "    shutil.copy(DATA_DIR+'train/{:05d}.png'.format(id), DATA_DIR+'train_labeled/{}/'.format(arabic_characters[l-1]))"
   ]
  },
  {
   "cell_type": "markdown",
   "metadata": {
    "id": "RQxXqLHz-KHw"
   },
   "source": [
    "# Create train data generator"
   ]
  },
  {
   "cell_type": "code",
   "execution_count": 6,
   "metadata": {
    "colab": {
     "base_uri": "https://localhost:8080/"
    },
    "id": "sMPMyoOK-B4J",
    "outputId": "cdad1d89-b29b-4da3-aad3-5068e72ba0a7"
   },
   "outputs": [
    {
     "name": "stdout",
     "output_type": "stream",
     "text": [
      "Found 10752 images belonging to 28 classes.\n",
      "Found 2688 images belonging to 28 classes.\n"
     ]
    }
   ],
   "source": [
    "BATCH_SIZE = 32\n",
    "train_dir = os.path.join(DATA_DIR, 'train_labeled/')\n",
    "\n",
    "datagen = ImageDataGenerator(validation_split=0.2)\n",
    "\n",
    "train_gen = datagen.flow_from_directory(train_dir,\n",
    "                                        batch_size=BATCH_SIZE,\n",
    "                                        target_size=(32, 32),\n",
    "                                        subset='training')\n",
    "\n",
    "val_gen = datagen.flow_from_directory(train_dir,                                    \n",
    "                                      batch_size=BATCH_SIZE,\n",
    "                                      target_size=(32, 32),\n",
    "                                      subset='validation') "
   ]
  },
  {
   "cell_type": "code",
   "execution_count": 7,
   "metadata": {
    "colab": {
     "base_uri": "https://localhost:8080/"
    },
    "id": "X3iJgcK3-PjQ",
    "outputId": "98984656-a8b4-4a80-e328-ca3c887183cd"
   },
   "outputs": [
    {
     "name": "stdout",
     "output_type": "stream",
     "text": [
      "(32, 32, 32, 3)\n",
      "(32, 28)\n"
     ]
    }
   ],
   "source": [
    "print(train_gen[0][0].shape )\n",
    "print(train_gen[0][1].shape )"
   ]
  },
  {
   "cell_type": "code",
   "execution_count": 8,
   "metadata": {
    "colab": {
     "base_uri": "https://localhost:8080/",
     "height": 283
    },
    "id": "iE5Z3kW4-QiX",
    "outputId": "30b7040c-be2b-4f39-84db-b8aa00716134"
   },
   "outputs": [
    {
     "data": {
      "text/plain": [
       "<matplotlib.image.AxesImage at 0x20e87e1e130>"
      ]
     },
     "execution_count": 8,
     "metadata": {},
     "output_type": "execute_result"
    },
    {
     "data": {
      "image/png": "[encoded data removed]",
      "text/plain": [
       "<Figure size 432x288 with 1 Axes>"
      ]
     },
     "metadata": {
      "needs_background": "light"
     },
     "output_type": "display_data"
    }
   ],
   "source": [
    "plt.imshow(next(train_gen)[0][1][:,:,1],'binary')"
   ]
  },
  {
   "cell_type": "markdown",
   "metadata": {},
   "source": [
    "# Create test data generator"
   ]
  },
  {
   "cell_type": "code",
   "execution_count": 9,
   "metadata": {
    "colab": {
     "base_uri": "https://localhost:8080/"
    },
    "id": "LLSMMRA9-UkX",
    "outputId": "7043908e-13d8-432b-f7d6-acc2cb949767"
   },
   "outputs": [
    {
     "name": "stdout",
     "output_type": "stream",
     "text": [
      "Found 3360 files belonging to 1 classes.\n"
     ]
    }
   ],
   "source": [
    "test_dir = os.path.join(DATA_DIR, 'test/')\n",
    "\n",
    "test_ds = image_dataset_from_directory(test_dir,\n",
    "                                       image_size=(32, 32),\n",
    "                                       batch_size=30,\n",
    "                                       shuffle=False,\n",
    "                                       label_mode=None)"
   ]
  },
  {
   "cell_type": "markdown",
   "metadata": {
    "id": "xBpRIjVL-c91"
   },
   "source": [
    "# Building model structure"
   ]
  },
  {
   "cell_type": "code",
   "execution_count": 10,
   "metadata": {
    "id": "ubA5NveO-alX"
   },
   "outputs": [],
   "source": [
    "def get_CNN_model():\n",
    "    input = Input(shape=(32,32,3))\n",
    "    \n",
    "    block1 = Conv2D(32, (5,5), padding=\"same\", activation=\"relu\")(input)\n",
    "    block1 = Conv2D(32, (5,5), padding=\"same\", activation=\"relu\")(block1)\n",
    "    block1 = Conv2D(32, (5,5), padding=\"same\", activation=\"relu\")(block1)\n",
    "    block1 = MaxPooling2D((2,2))(block1)\n",
    "    block1 = BatchNormalization()(block1)\n",
    "    block1 = Dropout(0.25)(block1)\n",
    "    \n",
    "    block2 = Conv2D(64, (3,3), padding=\"same\", activation=\"relu\")(block1)\n",
    "    block2 = Conv2D(64, (3,3), padding=\"same\", activation=\"relu\")(block2)\n",
    "    block2 = Conv2D(64, (3,3), padding=\"same\", activation=\"relu\")(block2)\n",
    "    block2 = MaxPooling2D((2,2))(block2)\n",
    "    block2 = BatchNormalization()(block2)\n",
    "    block2 = Dropout(0.25)(block2)\n",
    "    \n",
    "    dense = Flatten()(block2)\n",
    "    dense = Dense(256, activation=\"relu\")(dense)\n",
    "    dense = Dense(128, activation=\"relu\")(dense)\n",
    "    dense = Dropout(0.4)(dense)\n",
    "    \n",
    "    output = Dense(28, activation=\"softmax\")(dense)\n",
    "    \n",
    "    model = Model(input, output)\n",
    "    model.compile(loss=\"categorical_crossentropy\", optimizer=\"adam\", metrics=[\"accuracy\"])\n",
    "    \n",
    "    return model"
   ]
  },
  {
   "cell_type": "code",
   "execution_count": 11,
   "metadata": {
    "colab": {
     "base_uri": "https://localhost:8080/"
    },
    "id": "KO_rIko0-kkn",
    "outputId": "6726ca7b-8f68-4b0c-a9c3-3dbcfab03eae"
   },
   "outputs": [
    {
     "name": "stdout",
     "output_type": "stream",
     "text": [
      "Model: \"model\"\n",
      "_________________________________________________________________\n",
      " Layer (type)                Output Shape              Param #   \n",
      "=================================================================\n",
      " input_1 (InputLayer)        [(None, 32, 32, 3)]       0         \n",
      "                                                                 \n",
      " conv2d (Conv2D)             (None, 32, 32, 32)        2432      \n",
      "                                                                 \n",
      " conv2d_1 (Conv2D)           (None, 32, 32, 32)        25632     \n",
      "                                                                 \n",
      " conv2d_2 (Conv2D)           (None, 32, 32, 32)        25632     \n",
      "                                                                 \n",
      " max_pooling2d (MaxPooling2D  (None, 16, 16, 32)       0         \n",
      " )                                                               \n",
      "                                                                 \n",
      " batch_normalization (BatchN  (None, 16, 16, 32)       128       \n",
      " ormalization)                                                   \n",
      "                                                                 \n",
      " dropout (Dropout)           (None, 16, 16, 32)        0         \n",
      "                                                                 \n",
      " conv2d_3 (Conv2D)           (None, 16, 16, 64)        18496     \n",
      "                                                                 \n",
      " conv2d_4 (Conv2D)           (None, 16, 16, 64)        36928     \n",
      "                                                                 \n",
      " conv2d_5 (Conv2D)           (None, 16, 16, 64)        36928     \n",
      "                                                                 \n",
      " max_pooling2d_1 (MaxPooling  (None, 8, 8, 64)         0         \n",
      " 2D)                                                             \n",
      "                                                                 \n",
      " batch_normalization_1 (Batc  (None, 8, 8, 64)         256       \n",
      " hNormalization)                                                 \n",
      "                                                                 \n",
      " dropout_1 (Dropout)         (None, 8, 8, 64)          0         \n",
      "                                                                 \n",
      " flatten (Flatten)           (None, 4096)              0         \n",
      "                                                                 \n",
      " dense (Dense)               (None, 256)               1048832   \n",
      "                                                                 \n",
      " dense_1 (Dense)             (None, 128)               32896     \n",
      "                                                                 \n",
      " dropout_2 (Dropout)         (None, 128)               0         \n",
      "                                                                 \n",
      " dense_2 (Dense)             (None, 28)                3612      \n",
      "                                                                 \n",
      "=================================================================\n",
      "Total params: 1,231,772\n",
      "Trainable params: 1,231,580\n",
      "Non-trainable params: 192\n",
      "_________________________________________________________________\n"
     ]
    }
   ],
   "source": [
    "model = get_CNN_model()\n",
    "model.summary()"
   ]
  },
  {
   "cell_type": "markdown",
   "metadata": {},
   "source": [
    "### Model Callbacks"
   ]
  },
  {
   "cell_type": "code",
   "execution_count": 12,
   "metadata": {
    "id": "r1saBJVn-luf"
   },
   "outputs": [],
   "source": [
    "checkpoint_cb = ModelCheckpoint(filepath=os.path.join(DATA_DIR, 'models/model.h5'), save_best_only=True, monitor='val_accuracy', mode='max', verbose=1)\n",
    "early_stopping_cb = EarlyStopping(patience=50, restore_best_weights=True)"
   ]
  },
  {
   "cell_type": "markdown",
   "metadata": {},
   "source": [
    "### Model training"
   ]
  },
  {
   "cell_type": "code",
   "execution_count": 13,
   "metadata": {
    "colab": {
     "base_uri": "https://localhost:8080/"
    },
    "id": "hM_I09ld-pWh",
    "outputId": "1590dbb0-c320-4e98-bd7b-28234d85da75"
   },
   "outputs": [
    {
     "name": "stdout",
     "output_type": "stream",
     "text": [
      "Epoch 1/100\n",
      "336/336 [==============================] - ETA: 0s - loss: 2.3554 - accuracy: 0.2889\n",
      "Epoch 00001: val_accuracy improved from -inf to 0.12612, saving model to models\\model.h5\n",
      "336/336 [==============================] - 150s 442ms/step - loss: 2.3554 - accuracy: 0.2889 - val_loss: 4.1459 - val_accuracy: 0.1261\n",
      "Epoch 2/100\n",
      "336/336 [==============================] - ETA: 0s - loss: 1.2288 - accuracy: 0.5794\n",
      "Epoch 00002: val_accuracy improved from 0.12612 to 0.62723, saving model to models\\model.h5\n",
      "336/336 [==============================] - 113s 337ms/step - loss: 1.2288 - accuracy: 0.5794 - val_loss: 1.1612 - val_accuracy: 0.6272\n",
      "Epoch 3/100\n",
      "336/336 [==============================] - ETA: 0s - loss: 0.8273 - accuracy: 0.7215\n",
      "Epoch 00003: val_accuracy did not improve from 0.62723\n",
      "336/336 [==============================] - 110s 328ms/step - loss: 0.8273 - accuracy: 0.7215 - val_loss: 1.2787 - val_accuracy: 0.5859\n",
      "Epoch 4/100\n",
      "336/336 [==============================] - ETA: 0s - loss: 0.5983 - accuracy: 0.8024\n",
      "Epoch 00004: val_accuracy improved from 0.62723 to 0.79390, saving model to models\\model.h5\n",
      "336/336 [==============================] - 114s 340ms/step - loss: 0.5983 - accuracy: 0.8024 - val_loss: 0.6849 - val_accuracy: 0.7939\n",
      "Epoch 5/100\n",
      "336/336 [==============================] - ETA: 0s - loss: 0.4647 - accuracy: 0.8465\n",
      "Epoch 00005: val_accuracy improved from 0.79390 to 0.81696, saving model to models\\model.h5\n",
      "336/336 [==============================] - 119s 354ms/step - loss: 0.4647 - accuracy: 0.8465 - val_loss: 0.5835 - val_accuracy: 0.8170\n",
      "Epoch 6/100\n",
      "336/336 [==============================] - ETA: 0s - loss: 0.3754 - accuracy: 0.8797\n",
      "Epoch 00006: val_accuracy did not improve from 0.81696\n",
      "336/336 [==============================] - 115s 341ms/step - loss: 0.3754 - accuracy: 0.8797 - val_loss: 0.6324 - val_accuracy: 0.8155\n",
      "Epoch 7/100\n",
      "336/336 [==============================] - ETA: 0s - loss: 0.2908 - accuracy: 0.9066\n",
      "Epoch 00007: val_accuracy improved from 0.81696 to 0.92076, saving model to models\\model.h5\n",
      "336/336 [==============================] - 119s 354ms/step - loss: 0.2908 - accuracy: 0.9066 - val_loss: 0.2739 - val_accuracy: 0.9208\n",
      "Epoch 8/100\n",
      "336/336 [==============================] - ETA: 0s - loss: 0.2610 - accuracy: 0.9143\n",
      "Epoch 00008: val_accuracy improved from 0.92076 to 0.93043, saving model to models\\model.h5\n",
      "336/336 [==============================] - 109s 326ms/step - loss: 0.2610 - accuracy: 0.9143 - val_loss: 0.2432 - val_accuracy: 0.9304\n",
      "Epoch 9/100\n",
      "336/336 [==============================] - ETA: 0s - loss: 0.2187 - accuracy: 0.9319\n",
      "Epoch 00009: val_accuracy improved from 0.93043 to 0.93229, saving model to models\\model.h5\n",
      "336/336 [==============================] - 104s 311ms/step - loss: 0.2187 - accuracy: 0.9319 - val_loss: 0.2328 - val_accuracy: 0.9323\n",
      "Epoch 10/100\n",
      "336/336 [==============================] - ETA: 0s - loss: 0.1985 - accuracy: 0.9361\n",
      "Epoch 00010: val_accuracy did not improve from 0.93229\n",
      "336/336 [==============================] - 109s 324ms/step - loss: 0.1985 - accuracy: 0.9361 - val_loss: 8.0493 - val_accuracy: 0.2121\n",
      "Epoch 11/100\n",
      "336/336 [==============================] - ETA: 0s - loss: 0.1919 - accuracy: 0.9419\n",
      "Epoch 00011: val_accuracy improved from 0.93229 to 0.93824, saving model to models\\model.h5\n",
      "336/336 [==============================] - 109s 325ms/step - loss: 0.1919 - accuracy: 0.9419 - val_loss: 0.2622 - val_accuracy: 0.9382\n",
      "Epoch 12/100\n",
      "336/336 [==============================] - ETA: 0s - loss: 0.1751 - accuracy: 0.9453\n",
      "Epoch 00012: val_accuracy did not improve from 0.93824\n",
      "336/336 [==============================] - 109s 323ms/step - loss: 0.1751 - accuracy: 0.9453 - val_loss: 0.3802 - val_accuracy: 0.8929\n",
      "Epoch 13/100\n",
      "336/336 [==============================] - ETA: 0s - loss: 0.1669 - accuracy: 0.9487\n",
      "Epoch 00013: val_accuracy improved from 0.93824 to 0.94271, saving model to models\\model.h5\n",
      "336/336 [==============================] - 109s 325ms/step - loss: 0.1669 - accuracy: 0.9487 - val_loss: 0.2583 - val_accuracy: 0.9427\n",
      "Epoch 14/100\n",
      "336/336 [==============================] - ETA: 0s - loss: 0.1565 - accuracy: 0.9523\n",
      "Epoch 00014: val_accuracy did not improve from 0.94271\n",
      "336/336 [==============================] - 104s 309ms/step - loss: 0.1565 - accuracy: 0.9523 - val_loss: 0.5131 - val_accuracy: 0.8471\n",
      "Epoch 15/100\n",
      "336/336 [==============================] - ETA: 0s - loss: 0.1324 - accuracy: 0.9600\n",
      "Epoch 00015: val_accuracy did not improve from 0.94271\n",
      "336/336 [==============================] - 104s 310ms/step - loss: 0.1324 - accuracy: 0.9600 - val_loss: 0.7750 - val_accuracy: 0.7887\n",
      "Epoch 16/100\n",
      "336/336 [==============================] - ETA: 0s - loss: 0.1218 - accuracy: 0.9622\n",
      "Epoch 00016: val_accuracy did not improve from 0.94271\n",
      "336/336 [==============================] - 108s 323ms/step - loss: 0.1218 - accuracy: 0.9622 - val_loss: 0.3434 - val_accuracy: 0.9204\n",
      "Epoch 17/100\n",
      "336/336 [==============================] - ETA: 0s - loss: 0.1185 - accuracy: 0.9625\n",
      "Epoch 00017: val_accuracy did not improve from 0.94271\n",
      "336/336 [==============================] - 110s 326ms/step - loss: 0.1185 - accuracy: 0.9625 - val_loss: 0.3056 - val_accuracy: 0.9364\n",
      "Epoch 18/100\n",
      "336/336 [==============================] - ETA: 0s - loss: 0.1093 - accuracy: 0.9671\n",
      "Epoch 00018: val_accuracy did not improve from 0.94271\n",
      "336/336 [==============================] - 110s 327ms/step - loss: 0.1093 - accuracy: 0.9671 - val_loss: 0.2934 - val_accuracy: 0.9323\n",
      "Epoch 19/100\n",
      "336/336 [==============================] - ETA: 0s - loss: 0.1157 - accuracy: 0.9663\n",
      "Epoch 00019: val_accuracy did not improve from 0.94271\n",
      "336/336 [==============================] - 116s 347ms/step - loss: 0.1157 - accuracy: 0.9663 - val_loss: 0.3012 - val_accuracy: 0.9249\n",
      "Epoch 20/100\n",
      "336/336 [==============================] - ETA: 0s - loss: 0.1137 - accuracy: 0.9653\n",
      "Epoch 00020: val_accuracy improved from 0.94271 to 0.94754, saving model to models\\model.h5\n",
      "336/336 [==============================] - 119s 355ms/step - loss: 0.1137 - accuracy: 0.9653 - val_loss: 0.2146 - val_accuracy: 0.9475\n",
      "Epoch 21/100\n",
      "336/336 [==============================] - ETA: 0s - loss: 0.1100 - accuracy: 0.9683\n",
      "Epoch 00021: val_accuracy improved from 0.94754 to 0.94792, saving model to models\\model.h5\n",
      "336/336 [==============================] - 121s 360ms/step - loss: 0.1100 - accuracy: 0.9683 - val_loss: 0.2392 - val_accuracy: 0.9479\n",
      "Epoch 22/100\n",
      "336/336 [==============================] - ETA: 0s - loss: 0.0916 - accuracy: 0.9701\n",
      "Epoch 00022: val_accuracy improved from 0.94792 to 0.94903, saving model to models\\model.h5\n",
      "336/336 [==============================] - 118s 351ms/step - loss: 0.0916 - accuracy: 0.9701 - val_loss: 0.2471 - val_accuracy: 0.9490\n",
      "Epoch 23/100\n",
      "336/336 [==============================] - ETA: 0s - loss: 0.1060 - accuracy: 0.9683\n",
      "Epoch 00023: val_accuracy did not improve from 0.94903\n",
      "336/336 [==============================] - 117s 347ms/step - loss: 0.1060 - accuracy: 0.9683 - val_loss: 0.2855 - val_accuracy: 0.9479\n",
      "Epoch 24/100\n",
      "336/336 [==============================] - ETA: 0s - loss: 0.0955 - accuracy: 0.9713\n",
      "Epoch 00024: val_accuracy did not improve from 0.94903\n",
      "336/336 [==============================] - 121s 361ms/step - loss: 0.0955 - accuracy: 0.9713 - val_loss: 0.3572 - val_accuracy: 0.9159\n",
      "Epoch 25/100\n",
      "336/336 [==============================] - ETA: 0s - loss: 0.1012 - accuracy: 0.9701\n",
      "Epoch 00025: val_accuracy did not improve from 0.94903\n",
      "336/336 [==============================] - 119s 353ms/step - loss: 0.1012 - accuracy: 0.9701 - val_loss: 0.2772 - val_accuracy: 0.9371\n",
      "Epoch 26/100\n",
      "336/336 [==============================] - ETA: 0s - loss: 0.0725 - accuracy: 0.9777\n",
      "Epoch 00026: val_accuracy did not improve from 0.94903\n",
      "336/336 [==============================] - 120s 356ms/step - loss: 0.0725 - accuracy: 0.9777 - val_loss: 0.2624 - val_accuracy: 0.9416\n",
      "Epoch 27/100\n",
      "336/336 [==============================] - ETA: 0s - loss: 0.0888 - accuracy: 0.9736\n",
      "Epoch 00027: val_accuracy did not improve from 0.94903\n",
      "336/336 [==============================] - 121s 361ms/step - loss: 0.0888 - accuracy: 0.9736 - val_loss: 0.3737 - val_accuracy: 0.9278\n"
     ]
    },
    {
     "name": "stdout",
     "output_type": "stream",
     "text": [
      "Epoch 28/100\n",
      "336/336 [==============================] - ETA: 0s - loss: 0.0766 - accuracy: 0.9764\n",
      "Epoch 00028: val_accuracy improved from 0.94903 to 0.95312, saving model to models\\model.h5\n",
      "336/336 [==============================] - 118s 351ms/step - loss: 0.0766 - accuracy: 0.9764 - val_loss: 0.2721 - val_accuracy: 0.9531\n",
      "Epoch 29/100\n",
      "336/336 [==============================] - ETA: 0s - loss: 0.0623 - accuracy: 0.9813\n",
      "Epoch 00029: val_accuracy did not improve from 0.95312\n",
      "336/336 [==============================] - 118s 351ms/step - loss: 0.0623 - accuracy: 0.9813 - val_loss: 0.2559 - val_accuracy: 0.9368\n",
      "Epoch 30/100\n",
      "336/336 [==============================] - ETA: 0s - loss: 0.0669 - accuracy: 0.9802\n",
      "Epoch 00030: val_accuracy did not improve from 0.95312\n",
      "336/336 [==============================] - 117s 349ms/step - loss: 0.0669 - accuracy: 0.9802 - val_loss: 0.3107 - val_accuracy: 0.9338\n",
      "Epoch 31/100\n",
      "336/336 [==============================] - ETA: 0s - loss: 0.0737 - accuracy: 0.9766\n",
      "Epoch 00031: val_accuracy did not improve from 0.95312\n",
      "336/336 [==============================] - 117s 348ms/step - loss: 0.0737 - accuracy: 0.9766 - val_loss: 0.2758 - val_accuracy: 0.9423\n",
      "Epoch 32/100\n",
      "336/336 [==============================] - ETA: 0s - loss: 0.0650 - accuracy: 0.9791\n",
      "Epoch 00032: val_accuracy did not improve from 0.95312\n",
      "336/336 [==============================] - 116s 346ms/step - loss: 0.0650 - accuracy: 0.9791 - val_loss: 1.0713 - val_accuracy: 0.8322\n",
      "Epoch 33/100\n",
      "336/336 [==============================] - ETA: 0s - loss: 0.0618 - accuracy: 0.9809\n",
      "Epoch 00033: val_accuracy improved from 0.95312 to 0.95871, saving model to models\\model.h5\n",
      "336/336 [==============================] - 118s 352ms/step - loss: 0.0618 - accuracy: 0.9809 - val_loss: 0.2627 - val_accuracy: 0.9587\n",
      "Epoch 34/100\n",
      "336/336 [==============================] - ETA: 0s - loss: 0.0502 - accuracy: 0.9862\n",
      "Epoch 00034: val_accuracy did not improve from 0.95871\n",
      "336/336 [==============================] - 119s 353ms/step - loss: 0.0502 - accuracy: 0.9862 - val_loss: 0.2788 - val_accuracy: 0.9557\n",
      "Epoch 35/100\n",
      "336/336 [==============================] - ETA: 0s - loss: 0.0747 - accuracy: 0.9791\n",
      "Epoch 00035: val_accuracy did not improve from 0.95871\n",
      "336/336 [==============================] - 119s 354ms/step - loss: 0.0747 - accuracy: 0.9791 - val_loss: 0.2951 - val_accuracy: 0.9427\n",
      "Epoch 36/100\n",
      "336/336 [==============================] - ETA: 0s - loss: 0.0609 - accuracy: 0.9818\n",
      "Epoch 00036: val_accuracy improved from 0.95871 to 0.96168, saving model to models\\model.h5\n",
      "336/336 [==============================] - 119s 355ms/step - loss: 0.0609 - accuracy: 0.9818 - val_loss: 0.2137 - val_accuracy: 0.9617\n",
      "Epoch 37/100\n",
      "336/336 [==============================] - ETA: 0s - loss: 0.0644 - accuracy: 0.9820\n",
      "Epoch 00037: val_accuracy did not improve from 0.96168\n",
      "336/336 [==============================] - 118s 351ms/step - loss: 0.0644 - accuracy: 0.9820 - val_loss: 0.2435 - val_accuracy: 0.9606\n",
      "Epoch 38/100\n",
      "336/336 [==============================] - ETA: 0s - loss: 0.0481 - accuracy: 0.9848\n",
      "Epoch 00038: val_accuracy did not improve from 0.96168\n",
      "336/336 [==============================] - 118s 350ms/step - loss: 0.0481 - accuracy: 0.9848 - val_loss: 0.3827 - val_accuracy: 0.9420\n",
      "Epoch 39/100\n",
      "336/336 [==============================] - ETA: 0s - loss: 0.0608 - accuracy: 0.9814\n",
      "Epoch 00039: val_accuracy did not improve from 0.96168\n",
      "336/336 [==============================] - 117s 348ms/step - loss: 0.0608 - accuracy: 0.9814 - val_loss: 0.2318 - val_accuracy: 0.9572\n",
      "Epoch 40/100\n",
      "336/336 [==============================] - ETA: 0s - loss: 0.0467 - accuracy: 0.9854\n",
      "Epoch 00040: val_accuracy did not improve from 0.96168\n",
      "336/336 [==============================] - 118s 352ms/step - loss: 0.0467 - accuracy: 0.9854 - val_loss: 0.2083 - val_accuracy: 0.9598\n",
      "Epoch 41/100\n",
      "336/336 [==============================] - ETA: 0s - loss: 0.0500 - accuracy: 0.9859\n",
      "Epoch 00041: val_accuracy did not improve from 0.96168\n",
      "336/336 [==============================] - 122s 364ms/step - loss: 0.0500 - accuracy: 0.9859 - val_loss: 0.2702 - val_accuracy: 0.9516\n",
      "Epoch 42/100\n",
      "336/336 [==============================] - ETA: 0s - loss: 0.0493 - accuracy: 0.9852\n",
      "Epoch 00042: val_accuracy did not improve from 0.96168\n",
      "336/336 [==============================] - 120s 357ms/step - loss: 0.0493 - accuracy: 0.9852 - val_loss: 0.2362 - val_accuracy: 0.9546\n",
      "Epoch 43/100\n",
      "336/336 [==============================] - ETA: 0s - loss: 0.0517 - accuracy: 0.9860\n",
      "Epoch 00043: val_accuracy did not improve from 0.96168\n",
      "336/336 [==============================] - 119s 353ms/step - loss: 0.0517 - accuracy: 0.9860 - val_loss: 0.2621 - val_accuracy: 0.9531\n",
      "Epoch 44/100\n",
      "336/336 [==============================] - ETA: 0s - loss: 0.0483 - accuracy: 0.9858\n",
      "Epoch 00044: val_accuracy did not improve from 0.96168\n",
      "336/336 [==============================] - 118s 352ms/step - loss: 0.0483 - accuracy: 0.9858 - val_loss: 0.2950 - val_accuracy: 0.9479\n",
      "Epoch 45/100\n",
      "336/336 [==============================] - ETA: 0s - loss: 0.0510 - accuracy: 0.9865\n",
      "Epoch 00045: val_accuracy did not improve from 0.96168\n",
      "336/336 [==============================] - 119s 353ms/step - loss: 0.0510 - accuracy: 0.9865 - val_loss: 0.2683 - val_accuracy: 0.9572\n",
      "Epoch 46/100\n",
      "336/336 [==============================] - ETA: 0s - loss: 0.0510 - accuracy: 0.9851\n",
      "Epoch 00046: val_accuracy did not improve from 0.96168\n",
      "336/336 [==============================] - 118s 351ms/step - loss: 0.0510 - accuracy: 0.9851 - val_loss: 0.2691 - val_accuracy: 0.9483\n",
      "Epoch 47/100\n",
      "336/336 [==============================] - ETA: 0s - loss: 0.0673 - accuracy: 0.9820\n",
      "Epoch 00047: val_accuracy did not improve from 0.96168\n",
      "336/336 [==============================] - 120s 358ms/step - loss: 0.0673 - accuracy: 0.9820 - val_loss: 0.2731 - val_accuracy: 0.9539\n",
      "Epoch 48/100\n",
      "336/336 [==============================] - ETA: 0s - loss: 0.0424 - accuracy: 0.9876\n",
      "Epoch 00048: val_accuracy did not improve from 0.96168\n",
      "336/336 [==============================] - 118s 351ms/step - loss: 0.0424 - accuracy: 0.9876 - val_loss: 0.2393 - val_accuracy: 0.9606\n",
      "Epoch 49/100\n",
      "336/336 [==============================] - ETA: 0s - loss: 0.0478 - accuracy: 0.9849\n",
      "Epoch 00049: val_accuracy did not improve from 0.96168\n",
      "336/336 [==============================] - 119s 355ms/step - loss: 0.0478 - accuracy: 0.9849 - val_loss: 0.2750 - val_accuracy: 0.9587\n",
      "Epoch 50/100\n",
      "336/336 [==============================] - ETA: 0s - loss: 0.0467 - accuracy: 0.9853\n",
      "Epoch 00050: val_accuracy did not improve from 0.96168\n",
      "336/336 [==============================] - 118s 352ms/step - loss: 0.0467 - accuracy: 0.9853 - val_loss: 0.2839 - val_accuracy: 0.9594\n",
      "Epoch 51/100\n",
      "336/336 [==============================] - ETA: 0s - loss: 0.0342 - accuracy: 0.9895\n",
      "Epoch 00051: val_accuracy did not improve from 0.96168\n",
      "336/336 [==============================] - 116s 346ms/step - loss: 0.0342 - accuracy: 0.9895 - val_loss: 0.2812 - val_accuracy: 0.9609\n",
      "Epoch 52/100\n",
      "336/336 [==============================] - ETA: 0s - loss: 0.0482 - accuracy: 0.9867\n",
      "Epoch 00052: val_accuracy did not improve from 0.96168\n",
      "336/336 [==============================] - 126s 375ms/step - loss: 0.0482 - accuracy: 0.9867 - val_loss: 0.2515 - val_accuracy: 0.9583\n",
      "Epoch 53/100\n",
      "336/336 [==============================] - ETA: 0s - loss: 0.0362 - accuracy: 0.9892\n",
      "Epoch 00053: val_accuracy improved from 0.96168 to 0.96280, saving model to models\\model.h5\n",
      "336/336 [==============================] - 121s 361ms/step - loss: 0.0362 - accuracy: 0.9892 - val_loss: 0.2386 - val_accuracy: 0.9628\n",
      "Epoch 54/100\n",
      "336/336 [==============================] - ETA: 0s - loss: 0.0359 - accuracy: 0.9899\n",
      "Epoch 00054: val_accuracy did not improve from 0.96280\n",
      "336/336 [==============================] - 115s 342ms/step - loss: 0.0359 - accuracy: 0.9899 - val_loss: 0.2791 - val_accuracy: 0.9594\n",
      "Epoch 55/100\n",
      "336/336 [==============================] - ETA: 0s - loss: 0.0356 - accuracy: 0.9893\n",
      "Epoch 00055: val_accuracy improved from 0.96280 to 0.96317, saving model to models\\model.h5\n",
      "336/336 [==============================] - 106s 315ms/step - loss: 0.0356 - accuracy: 0.9893 - val_loss: 0.2173 - val_accuracy: 0.9632\n"
     ]
    },
    {
     "name": "stdout",
     "output_type": "stream",
     "text": [
      "Epoch 56/100\n",
      "336/336 [==============================] - ETA: 0s - loss: 0.0303 - accuracy: 0.9900\n",
      "Epoch 00056: val_accuracy did not improve from 0.96317\n",
      "336/336 [==============================] - 106s 316ms/step - loss: 0.0303 - accuracy: 0.9900 - val_loss: 0.2691 - val_accuracy: 0.9520\n",
      "Epoch 57/100\n",
      "336/336 [==============================] - ETA: 0s - loss: 0.0384 - accuracy: 0.9893\n",
      "Epoch 00057: val_accuracy did not improve from 0.96317\n",
      "336/336 [==============================] - 106s 315ms/step - loss: 0.0384 - accuracy: 0.9893 - val_loss: 0.2631 - val_accuracy: 0.9617\n",
      "Epoch 58/100\n",
      "336/336 [==============================] - ETA: 0s - loss: 0.0463 - accuracy: 0.9870\n",
      "Epoch 00058: val_accuracy did not improve from 0.96317\n",
      "336/336 [==============================] - 107s 319ms/step - loss: 0.0463 - accuracy: 0.9870 - val_loss: 0.2908 - val_accuracy: 0.9505\n",
      "Epoch 59/100\n",
      "336/336 [==============================] - ETA: 0s - loss: 0.0448 - accuracy: 0.9880\n",
      "Epoch 00059: val_accuracy did not improve from 0.96317\n",
      "336/336 [==============================] - 105s 312ms/step - loss: 0.0448 - accuracy: 0.9880 - val_loss: 0.3988 - val_accuracy: 0.9353\n",
      "Epoch 60/100\n",
      "336/336 [==============================] - ETA: 0s - loss: 0.0426 - accuracy: 0.9884\n",
      "Epoch 00060: val_accuracy did not improve from 0.96317\n",
      "336/336 [==============================] - 102s 304ms/step - loss: 0.0426 - accuracy: 0.9884 - val_loss: 0.2852 - val_accuracy: 0.9531\n",
      "Epoch 61/100\n",
      "336/336 [==============================] - ETA: 0s - loss: 0.0337 - accuracy: 0.9914\n",
      "Epoch 00061: val_accuracy improved from 0.96317 to 0.96689, saving model to models\\model.h5\n",
      "336/336 [==============================] - 101s 300ms/step - loss: 0.0337 - accuracy: 0.9914 - val_loss: 0.2278 - val_accuracy: 0.9669\n",
      "Epoch 62/100\n",
      "336/336 [==============================] - ETA: 0s - loss: 0.0328 - accuracy: 0.9927\n",
      "Epoch 00062: val_accuracy improved from 0.96689 to 0.96949, saving model to models\\model.h5\n",
      "336/336 [==============================] - 101s 300ms/step - loss: 0.0328 - accuracy: 0.9927 - val_loss: 0.2233 - val_accuracy: 0.9695\n",
      "Epoch 63/100\n",
      "336/336 [==============================] - ETA: 0s - loss: 0.0428 - accuracy: 0.9890\n",
      "Epoch 00063: val_accuracy did not improve from 0.96949\n",
      "336/336 [==============================] - 101s 299ms/step - loss: 0.0428 - accuracy: 0.9890 - val_loss: 0.2665 - val_accuracy: 0.9647\n",
      "Epoch 64/100\n",
      "336/336 [==============================] - ETA: 0s - loss: 0.0425 - accuracy: 0.9888\n",
      "Epoch 00064: val_accuracy did not improve from 0.96949\n",
      "336/336 [==============================] - 101s 299ms/step - loss: 0.0425 - accuracy: 0.9888 - val_loss: 0.6213 - val_accuracy: 0.8743\n",
      "Epoch 65/100\n",
      "336/336 [==============================] - ETA: 0s - loss: 0.0260 - accuracy: 0.9918\n",
      "Epoch 00065: val_accuracy did not improve from 0.96949\n",
      "336/336 [==============================] - 102s 305ms/step - loss: 0.0260 - accuracy: 0.9918 - val_loss: 0.2755 - val_accuracy: 0.9650\n",
      "Epoch 66/100\n",
      "336/336 [==============================] - ETA: 0s - loss: 0.0369 - accuracy: 0.9911\n",
      "Epoch 00066: val_accuracy did not improve from 0.96949\n",
      "336/336 [==============================] - 108s 321ms/step - loss: 0.0369 - accuracy: 0.9911 - val_loss: 0.3016 - val_accuracy: 0.9635\n",
      "Epoch 67/100\n",
      "336/336 [==============================] - ETA: 0s - loss: 0.0313 - accuracy: 0.9909\n",
      "Epoch 00067: val_accuracy did not improve from 0.96949\n",
      "336/336 [==============================] - 105s 314ms/step - loss: 0.0313 - accuracy: 0.9909 - val_loss: 0.2565 - val_accuracy: 0.9673\n",
      "Epoch 68/100\n",
      "336/336 [==============================] - ETA: 0s - loss: 0.0366 - accuracy: 0.9892\n",
      "Epoch 00068: val_accuracy did not improve from 0.96949\n",
      "336/336 [==============================] - 107s 317ms/step - loss: 0.0366 - accuracy: 0.9892 - val_loss: 0.3020 - val_accuracy: 0.9561\n",
      "Epoch 69/100\n",
      "336/336 [==============================] - ETA: 0s - loss: 0.0401 - accuracy: 0.9898\n",
      "Epoch 00069: val_accuracy did not improve from 0.96949\n",
      "336/336 [==============================] - 106s 316ms/step - loss: 0.0401 - accuracy: 0.9898 - val_loss: 0.3070 - val_accuracy: 0.9542\n",
      "Epoch 70/100\n",
      "336/336 [==============================] - ETA: 0s - loss: 0.0509 - accuracy: 0.9874\n",
      "Epoch 00070: val_accuracy did not improve from 0.96949\n",
      "336/336 [==============================] - 105s 313ms/step - loss: 0.0509 - accuracy: 0.9874 - val_loss: 1.4246 - val_accuracy: 0.8185\n",
      "Epoch 71/100\n",
      "336/336 [==============================] - ETA: 0s - loss: 0.0406 - accuracy: 0.9888\n",
      "Epoch 00071: val_accuracy did not improve from 0.96949\n",
      "336/336 [==============================] - 106s 314ms/step - loss: 0.0406 - accuracy: 0.9888 - val_loss: 0.2838 - val_accuracy: 0.9613\n",
      "Epoch 72/100\n",
      "336/336 [==============================] - ETA: 0s - loss: 0.0246 - accuracy: 0.9930\n",
      "Epoch 00072: val_accuracy did not improve from 0.96949\n",
      "336/336 [==============================] - 106s 315ms/step - loss: 0.0246 - accuracy: 0.9930 - val_loss: 0.3215 - val_accuracy: 0.9628\n",
      "Epoch 73/100\n",
      "336/336 [==============================] - ETA: 0s - loss: 0.0347 - accuracy: 0.9899\n",
      "Epoch 00073: val_accuracy did not improve from 0.96949\n",
      "336/336 [==============================] - 106s 316ms/step - loss: 0.0347 - accuracy: 0.9899 - val_loss: 0.2488 - val_accuracy: 0.9621\n",
      "Epoch 74/100\n",
      "336/336 [==============================] - ETA: 0s - loss: 0.0237 - accuracy: 0.9927\n",
      "Epoch 00074: val_accuracy did not improve from 0.96949\n",
      "336/336 [==============================] - 106s 314ms/step - loss: 0.0237 - accuracy: 0.9927 - val_loss: 0.2872 - val_accuracy: 0.9572\n",
      "Epoch 75/100\n",
      "336/336 [==============================] - ETA: 0s - loss: 0.0424 - accuracy: 0.9895\n",
      "Epoch 00075: val_accuracy did not improve from 0.96949\n",
      "336/336 [==============================] - 106s 315ms/step - loss: 0.0424 - accuracy: 0.9895 - val_loss: 0.2667 - val_accuracy: 0.9658\n",
      "Epoch 76/100\n",
      "336/336 [==============================] - ETA: 0s - loss: 0.0214 - accuracy: 0.9931\n",
      "Epoch 00076: val_accuracy did not improve from 0.96949\n",
      "336/336 [==============================] - 107s 318ms/step - loss: 0.0214 - accuracy: 0.9931 - val_loss: 0.2549 - val_accuracy: 0.9680\n",
      "Epoch 77/100\n",
      "336/336 [==============================] - ETA: 0s - loss: 0.0403 - accuracy: 0.9888\n",
      "Epoch 00077: val_accuracy did not improve from 0.96949\n",
      "336/336 [==============================] - 102s 304ms/step - loss: 0.0403 - accuracy: 0.9888 - val_loss: 0.3100 - val_accuracy: 0.9632\n",
      "Epoch 78/100\n",
      "336/336 [==============================] - ETA: 0s - loss: 0.0338 - accuracy: 0.9902\n",
      "Epoch 00078: val_accuracy did not improve from 0.96949\n",
      "336/336 [==============================] - 106s 316ms/step - loss: 0.0338 - accuracy: 0.9902 - val_loss: 0.2544 - val_accuracy: 0.9650\n",
      "Epoch 79/100\n",
      "336/336 [==============================] - ETA: 0s - loss: 0.0303 - accuracy: 0.9926\n",
      "Epoch 00079: val_accuracy did not improve from 0.96949\n",
      "336/336 [==============================] - 106s 315ms/step - loss: 0.0303 - accuracy: 0.9926 - val_loss: 0.2219 - val_accuracy: 0.9680\n",
      "Epoch 80/100\n",
      "336/336 [==============================] - ETA: 0s - loss: 0.0192 - accuracy: 0.9952\n",
      "Epoch 00080: val_accuracy did not improve from 0.96949\n",
      "336/336 [==============================] - 106s 315ms/step - loss: 0.0192 - accuracy: 0.9952 - val_loss: 0.2740 - val_accuracy: 0.9583\n",
      "Epoch 81/100\n",
      "336/336 [==============================] - ETA: 0s - loss: 0.0281 - accuracy: 0.9926\n",
      "Epoch 00081: val_accuracy did not improve from 0.96949\n",
      "336/336 [==============================] - 105s 314ms/step - loss: 0.0281 - accuracy: 0.9926 - val_loss: 0.3270 - val_accuracy: 0.9580\n",
      "Epoch 82/100\n",
      "336/336 [==============================] - ETA: 0s - loss: 0.0341 - accuracy: 0.9920\n",
      "Epoch 00082: val_accuracy did not improve from 0.96949\n",
      "336/336 [==============================] - 106s 317ms/step - loss: 0.0341 - accuracy: 0.9920 - val_loss: 0.2531 - val_accuracy: 0.9647\n",
      "Epoch 83/100\n",
      "336/336 [==============================] - ETA: 0s - loss: 0.0343 - accuracy: 0.9906\n",
      "Epoch 00083: val_accuracy did not improve from 0.96949\n",
      "336/336 [==============================] - 118s 350ms/step - loss: 0.0343 - accuracy: 0.9906 - val_loss: 0.3719 - val_accuracy: 0.9587\n",
      "Epoch 84/100\n"
     ]
    },
    {
     "name": "stdout",
     "output_type": "stream",
     "text": [
      "336/336 [==============================] - ETA: 0s - loss: 0.0217 - accuracy: 0.9934\n",
      "Epoch 00084: val_accuracy did not improve from 0.96949\n",
      "336/336 [==============================] - 129s 383ms/step - loss: 0.0217 - accuracy: 0.9934 - val_loss: 0.3836 - val_accuracy: 0.9639\n",
      "Epoch 85/100\n",
      "336/336 [==============================] - ETA: 0s - loss: 0.0258 - accuracy: 0.9923\n",
      "Epoch 00085: val_accuracy did not improve from 0.96949\n",
      "336/336 [==============================] - 115s 343ms/step - loss: 0.0258 - accuracy: 0.9923 - val_loss: 0.3106 - val_accuracy: 0.9688\n",
      "Epoch 86/100\n",
      "336/336 [==============================] - ETA: 0s - loss: 0.0438 - accuracy: 0.9910\n",
      "Epoch 00086: val_accuracy did not improve from 0.96949\n",
      "336/336 [==============================] - 111s 330ms/step - loss: 0.0438 - accuracy: 0.9910 - val_loss: 0.4378 - val_accuracy: 0.9505\n",
      "Epoch 87/100\n",
      "336/336 [==============================] - ETA: 0s - loss: 0.0306 - accuracy: 0.9920\n",
      "Epoch 00087: val_accuracy improved from 0.96949 to 0.97024, saving model to models\\model.h5\n",
      "336/336 [==============================] - 124s 368ms/step - loss: 0.0306 - accuracy: 0.9920 - val_loss: 0.2728 - val_accuracy: 0.9702\n",
      "Epoch 88/100\n",
      "336/336 [==============================] - ETA: 0s - loss: 0.0187 - accuracy: 0.9960\n",
      "Epoch 00088: val_accuracy improved from 0.97024 to 0.97061, saving model to models\\model.h5\n",
      "336/336 [==============================] - 127s 376ms/step - loss: 0.0187 - accuracy: 0.9960 - val_loss: 0.2750 - val_accuracy: 0.9706\n",
      "Epoch 89/100\n",
      "336/336 [==============================] - ETA: 0s - loss: 0.0260 - accuracy: 0.9930\n",
      "Epoch 00089: val_accuracy did not improve from 0.97061\n",
      "336/336 [==============================] - 120s 356ms/step - loss: 0.0260 - accuracy: 0.9930 - val_loss: 0.2588 - val_accuracy: 0.9658\n",
      "Epoch 90/100\n",
      "336/336 [==============================] - ETA: 0s - loss: 0.0291 - accuracy: 0.9922\n",
      "Epoch 00090: val_accuracy did not improve from 0.97061\n",
      "336/336 [==============================] - 116s 345ms/step - loss: 0.0291 - accuracy: 0.9922 - val_loss: 0.2912 - val_accuracy: 0.9654\n"
     ]
    }
   ],
   "source": [
    "history = model.fit(train_gen,\n",
    "                    epochs = 100,\n",
    "                    steps_per_epoch = train_gen.samples // BATCH_SIZE,\n",
    "                    validation_data = val_gen,\n",
    "                    validation_steps = val_gen.samples // BATCH_SIZE,\n",
    "                    callbacks = [checkpoint_cb, early_stopping_cb])"
   ]
  },
  {
   "cell_type": "markdown",
   "metadata": {
    "id": "Ez2V4i93Oags"
   },
   "source": [
    "# "
   ]
  },
  {
   "cell_type": "markdown",
   "metadata": {
    "id": "Ez2V4i93Oags"
   },
   "source": [
    "# "
   ]
  },
  {
   "cell_type": "markdown",
   "metadata": {},
   "source": [
    "# Model Testing"
   ]
  },
  {
   "cell_type": "code",
   "execution_count": 16,
   "metadata": {},
   "outputs": [],
   "source": [
    "my_model = load_model(\"models/model.h5\")"
   ]
  },
  {
   "cell_type": "code",
   "execution_count": 17,
   "metadata": {},
   "outputs": [],
   "source": [
    "all_test_data_predictions = my_model.predict(test_ds)"
   ]
  },
  {
   "cell_type": "code",
   "execution_count": 30,
   "metadata": {},
   "outputs": [
    {
     "name": "stdout",
     "output_type": "stream",
     "text": [
      "Prediction is : ه\n"
     ]
    },
    {
     "data": {
      "image/png": "[encoded data removed]",
      "text/plain": [
       "<Figure size 432x288 with 1 Axes>"
      ]
     },
     "metadata": {
      "needs_background": "light"
     },
     "output_type": "display_data"
    },
    {
     "name": "stdout",
     "output_type": "stream",
     "text": [
      "================================\n",
      "Prediction is : ر\n"
     ]
    },
    {
     "data": {
      "image/png": "[encoded data removed]",
      "text/plain": [
       "<Figure size 432x288 with 1 Axes>"
      ]
     },
     "metadata": {
      "needs_background": "light"
     },
     "output_type": "display_data"
    },
    {
     "name": "stdout",
     "output_type": "stream",
     "text": [
      "================================\n",
      "Prediction is : أ\n"
     ]
    },
    {
     "data": {
      "image/png": "[encoded data removed]",
      "text/plain": [
       "<Figure size 432x288 with 1 Axes>"
      ]
     },
     "metadata": {
      "needs_background": "light"
     },
     "output_type": "display_data"
    },
    {
     "name": "stdout",
     "output_type": "stream",
     "text": [
      "================================\n",
      "Prediction is : ر\n"
     ]
    },
    {
     "data": {
      "image/png": "[encoded data removed]",
      "text/plain": [
       "<Figure size 432x288 with 1 Axes>"
      ]
     },
     "metadata": {
      "needs_background": "light"
     },
     "output_type": "display_data"
    },
    {
     "name": "stdout",
     "output_type": "stream",
     "text": [
      "================================\n",
      "Prediction is : ض\n"
     ]
    },
    {
     "data": {
      "image/png": "[encoded data removed]",
      "text/plain": [
       "<Figure size 432x288 with 1 Axes>"
      ]
     },
     "metadata": {
      "needs_background": "light"
     },
     "output_type": "display_data"
    },
    {
     "name": "stdout",
     "output_type": "stream",
     "text": [
      "================================\n",
      "Prediction is : ص\n"
     ]
    },
    {
     "data": {
      "image/png": "[encoded data removed]",
      "text/plain": [
       "<Figure size 432x288 with 1 Axes>"
      ]
     },
     "metadata": {
      "needs_background": "light"
     },
     "output_type": "display_data"
    },
    {
     "name": "stdout",
     "output_type": "stream",
     "text": [
      "================================\n",
      "Prediction is : ل\n"
     ]
    },
    {
     "data": {
      "image/png": "[encoded data removed]",
      "text/plain": [
       "<Figure size 432x288 with 1 Axes>"
      ]
     },
     "metadata": {
      "needs_background": "light"
     },
     "output_type": "display_data"
    },
    {
     "name": "stdout",
     "output_type": "stream",
     "text": [
      "================================\n",
      "Prediction is : ر\n"
     ]
    },
    {
     "data": {
      "image/png": "[encoded data removed]",
      "text/plain": [
       "<Figure size 432x288 with 1 Axes>"
      ]
     },
     "metadata": {
      "needs_background": "light"
     },
     "output_type": "display_data"
    },
    {
     "name": "stdout",
     "output_type": "stream",
     "text": [
      "================================\n",
      "Prediction is : و\n"
     ]
    },
    {
     "data": {
      "image/png": "[encoded data removed]",
      "text/plain": [
       "<Figure size 432x288 with 1 Axes>"
      ]
     },
     "metadata": {
      "needs_background": "light"
     },
     "output_type": "display_data"
    },
    {
     "name": "stdout",
     "output_type": "stream",
     "text": [
      "================================\n",
      "Prediction is : ع\n"
     ]
    },
    {
     "data": {
      "image/png": "[encoded data removed]",
      "text/plain": [
       "<Figure size 432x288 with 1 Axes>"
      ]
     },
     "metadata": {
      "needs_background": "light"
     },
     "output_type": "display_data"
    },
    {
     "name": "stdout",
     "output_type": "stream",
     "text": [
      "================================\n",
      "Prediction is : ع\n"
     ]
    },
    {
     "data": {
      "image/png": "[encoded data removed]",
      "text/plain": [
       "<Figure size 432x288 with 1 Axes>"
      ]
     },
     "metadata": {
      "needs_background": "light"
     },
     "output_type": "display_data"
    },
    {
     "name": "stdout",
     "output_type": "stream",
     "text": [
      "================================\n",
      "Prediction is : ظ\n"
     ]
    },
    {
     "data": {
      "image/png": "[encoded data removed]",
      "text/plain": [
       "<Figure size 432x288 with 1 Axes>"
      ]
     },
     "metadata": {
      "needs_background": "light"
     },
     "output_type": "display_data"
    },
    {
     "name": "stdout",
     "output_type": "stream",
     "text": [
      "================================\n",
      "Prediction is : ه\n"
     ]
    },
    {
     "data": {
      "image/png": "[encoded data removed]",
      "text/plain": [
       "<Figure size 432x288 with 1 Axes>"
      ]
     },
     "metadata": {
      "needs_background": "light"
     },
     "output_type": "display_data"
    },
    {
     "name": "stdout",
     "output_type": "stream",
     "text": [
      "================================\n",
      "Prediction is : ص\n"
     ]
    },
    {
     "data": {
      "image/png": "[encoded data removed]",
      "text/plain": [
       "<Figure size 432x288 with 1 Axes>"
      ]
     },
     "metadata": {
      "needs_background": "light"
     },
     "output_type": "display_data"
    },
    {
     "name": "stdout",
     "output_type": "stream",
     "text": [
      "================================\n",
      "Prediction is : أ\n"
     ]
    },
    {
     "data": {
      "image/png": "[encoded data removed]",
      "text/plain": [
       "<Figure size 432x288 with 1 Axes>"
      ]
     },
     "metadata": {
      "needs_background": "light"
     },
     "output_type": "display_data"
    },
    {
     "name": "stdout",
     "output_type": "stream",
     "text": [
      "================================\n",
      "Prediction is : ذ\n"
     ]
    },
    {
     "data": {
      "image/png": "[encoded data removed]",
      "text/plain": [
       "<Figure size 432x288 with 1 Axes>"
      ]
     },
     "metadata": {
      "needs_background": "light"
     },
     "output_type": "display_data"
    },
    {
     "name": "stdout",
     "output_type": "stream",
     "text": [
      "================================\n",
      "Prediction is : ز\n"
     ]
    },
    {
     "data": {
      "image/png": "[encoded data removed]",
      "text/plain": [
       "<Figure size 432x288 with 1 Axes>"
      ]
     },
     "metadata": {
      "needs_background": "light"
     },
     "output_type": "display_data"
    },
    {
     "name": "stdout",
     "output_type": "stream",
     "text": [
      "================================\n",
      "Prediction is : ن\n"
     ]
    },
    {
     "data": {
      "image/png": "[encoded data removed]",
      "text/plain": [
       "<Figure size 432x288 with 1 Axes>"
      ]
     },
     "metadata": {
      "needs_background": "light"
     },
     "output_type": "display_data"
    },
    {
     "name": "stdout",
     "output_type": "stream",
     "text": [
      "================================\n",
      "Prediction is : ص\n"
     ]
    },
    {
     "data": {
      "image/png": "[encoded data removed]",
      "text/plain": [
       "<Figure size 432x288 with 1 Axes>"
      ]
     },
     "metadata": {
      "needs_background": "light"
     },
     "output_type": "display_data"
    },
    {
     "name": "stdout",
     "output_type": "stream",
     "text": [
      "================================\n",
      "Prediction is : ر\n"
     ]
    },
    {
     "data": {
      "image/png": "[encoded data removed]",
      "text/plain": [
       "<Figure size 432x288 with 1 Axes>"
      ]
     },
     "metadata": {
      "needs_background": "light"
     },
     "output_type": "display_data"
    },
    {
     "name": "stdout",
     "output_type": "stream",
     "text": [
      "================================\n",
      "Prediction is : ذ\n"
     ]
    },
    {
     "data": {
      "image/png": "[encoded data removed]",
      "text/plain": [
       "<Figure size 432x288 with 1 Axes>"
      ]
     },
     "metadata": {
      "needs_background": "light"
     },
     "output_type": "display_data"
    },
    {
     "name": "stdout",
     "output_type": "stream",
     "text": [
      "================================\n",
      "Prediction is : ذ\n"
     ]
    },
    {
     "data": {
      "image/png": "[encoded data removed]",
      "text/plain": [
       "<Figure size 432x288 with 1 Axes>"
      ]
     },
     "metadata": {
      "needs_background": "light"
     },
     "output_type": "display_data"
    },
    {
     "name": "stdout",
     "output_type": "stream",
     "text": [
      "================================\n",
      "Prediction is : ه\n"
     ]
    },
    {
     "data": {
      "image/png": "[encoded data removed]",
      "text/plain": [
       "<Figure size 432x288 with 1 Axes>"
      ]
     },
     "metadata": {
      "needs_background": "light"
     },
     "output_type": "display_data"
    },
    {
     "name": "stdout",
     "output_type": "stream",
     "text": [
      "================================\n",
      "Prediction is : س\n"
     ]
    },
    {
     "data": {
      "image/png": "[encoded data removed]",
      "text/plain": [
       "<Figure size 432x288 with 1 Axes>"
      ]
     },
     "metadata": {
      "needs_background": "light"
     },
     "output_type": "display_data"
    },
    {
     "name": "stdout",
     "output_type": "stream",
     "text": [
      "================================\n",
      "Prediction is : ف\n"
     ]
    },
    {
     "data": {
      "image/png": "[encoded data removed]",
      "text/plain": [
       "<Figure size 432x288 with 1 Axes>"
      ]
     },
     "metadata": {
      "needs_background": "light"
     },
     "output_type": "display_data"
    },
    {
     "name": "stdout",
     "output_type": "stream",
     "text": [
      "================================\n",
      "Prediction is : ع\n"
     ]
    },
    {
     "data": {
      "image/png": "[encoded data removed]",
      "text/plain": [
       "<Figure size 432x288 with 1 Axes>"
      ]
     },
     "metadata": {
      "needs_background": "light"
     },
     "output_type": "display_data"
    },
    {
     "name": "stdout",
     "output_type": "stream",
     "text": [
      "================================\n",
      "Prediction is : خ\n"
     ]
    },
    {
     "data": {
      "image/png": "[encoded data removed]",
      "text/plain": [
       "<Figure size 432x288 with 1 Axes>"
      ]
     },
     "metadata": {
      "needs_background": "light"
     },
     "output_type": "display_data"
    },
    {
     "name": "stdout",
     "output_type": "stream",
     "text": [
      "================================\n",
      "Prediction is : ث\n"
     ]
    },
    {
     "data": {
      "image/png": "[encoded data removed]",
      "text/plain": [
       "<Figure size 432x288 with 1 Axes>"
      ]
     },
     "metadata": {
      "needs_background": "light"
     },
     "output_type": "display_data"
    },
    {
     "name": "stdout",
     "output_type": "stream",
     "text": [
      "================================\n",
      "Prediction is : ش\n"
     ]
    },
    {
     "data": {
      "image/png": "[encoded data removed]",
      "text/plain": [
       "<Figure size 432x288 with 1 Axes>"
      ]
     },
     "metadata": {
      "needs_background": "light"
     },
     "output_type": "display_data"
    },
    {
     "name": "stdout",
     "output_type": "stream",
     "text": [
      "================================\n",
      "Prediction is : س\n"
     ]
    },
    {
     "data": {
      "image/png": "[encoded data removed]",
      "text/plain": [
       "<Figure size 432x288 with 1 Axes>"
      ]
     },
     "metadata": {
      "needs_background": "light"
     },
     "output_type": "display_data"
    },
    {
     "name": "stdout",
     "output_type": "stream",
     "text": [
      "================================\n"
     ]
    }
   ],
   "source": [
    "for index in range(next(test_ds.as_numpy_iterator()).shape[0]) :\n",
    "    print(\"Prediction is : \" + arabic_characters[np.argmax(all_test_data_predictions[index])])\n",
    "    plt.imshow(next(test_ds.as_numpy_iterator())[index][:,:,1],'binary')\n",
    "    plt.show()\n",
    "    print(\"================================\")"
   ]
  },
  {
   "cell_type": "code",
   "execution_count": null,
   "metadata": {},
   "outputs": [],
   "source": []
  }
 ],
 "metadata": {
  "accelerator": "GPU",
  "colab": {
   "collapsed_sections": [],
   "name": "colab_OCR",
   "provenance": []
  },
  "kernelspec": {
   "display_name": "Python 3",
   "language": "python",
   "name": "python3"
  },
  "language_info": {
   "codemirror_mode": {
    "name": "ipython",
    "version": 3
   },
   "file_extension": ".py",
   "mimetype": "text/x-python",
   "name": "python",
   "nbconvert_exporter": "python",
   "pygments_lexer": "ipython3",
   "version": "3.8.5"
  }
 },
 "nbformat": 4,
 "nbformat_minor": 1
}
